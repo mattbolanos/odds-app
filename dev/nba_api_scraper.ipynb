{
 "cells": [
  {
   "cell_type": "code",
   "execution_count": 1,
   "metadata": {},
   "outputs": [],
   "source": [
    "# Import libraries\n",
    "import pandas as pd\n",
    "import requests\n",
    "from datetime import date\n",
    "\n",
    "# Headers for API Request\n",
    "nba_header_data  = {\n",
    "    'Connection': 'keep-alive',\n",
    "    'Accept': 'application/json, text/plain, */*',\n",
    "    'x-nba-stats-token': 'true',\n",
    "    'User-Agent': 'Mozilla/5.0 (Macintosh; Intel Mac OS X 10_14_6) AppleWebKit/537.36 (KHTML, like Gecko) Chrome/79.0.3945.130 Safari/537.36',\n",
    "    'x-nba-stats-origin': 'stats',\n",
    "    'Sec-Fetch-Site': 'same-origin',\n",
    "    'Sec-Fetch-Mode': 'cors',\n",
    "    'Referer': 'https://stats.nba.com/',\n",
    "    'Accept-Encoding': 'gzip, deflate, br',\n",
    "    'Accept-Language': 'en-US,en;q=0.9',\n",
    "}"
   ]
  },
  {
   "cell_type": "code",
   "execution_count": 3,
   "metadata": {},
   "outputs": [],
   "source": [
    "# Functions\n",
    "def get_nba_games_today(nba_header_data):\n",
    "    \n",
    "    ### Function to scrape NBA API for today's games\n",
    "    ## Args: \n",
    "    # nba_header_data (dict): headers for NBA API request\n",
    "    ## Returns (df): dataframe of nba_games_today with today's games\n",
    "    ###\n",
    "    \n",
    "    # Get system date\n",
    "    today = date.today()\n",
    "    \n",
    "    # Paste into url\n",
    "    url = 'https://stats.nba.com/stats/scoreboardv3?GameDate=' + str(today) + '&LeagueID=00'\n",
    "    \n",
    "    # Send request\n",
    "    r = requests.get(url, headers=nba_header_data)\n",
    "    \n",
    "    # Get JSON response\n",
    "    resp = r.json()\n",
    "    \n",
    "    # Set json resp columns to grab\n",
    "    nba_json_schedule_cols = ['gameId', 'gameEt', 'awayTeam.teamId', 'awayTeam.teamTricode', 'awayTeam.teamName',\n",
    "                            'homeTeam.teamId', 'homeTeam.teamTricode', 'homeTeam.teamName']\n",
    "\n",
    "    # Normalize json and select columns\n",
    "    nba_games_today = pd.json_normalize(resp[\"scoreboard\"]['games'])[nba_json_schedule_cols]\n",
    "\n",
    "    # Create awayteamName and homeTeamName\n",
    "    nba_games_today['awayTeamName'] = nba_games_today['awayTeam.teamTricode'] + ' ' + nba_games_today['awayTeam.teamName']\n",
    "    nba_games_today['homeTeamName'] = nba_games_today['homeTeam.teamTricode'] + ' ' + nba_games_today['homeTeam.teamName']\n",
    "\n",
    "    # Rename some columns\n",
    "    nba_games_today.rename({'awayTeam.teamId': 'awayTeamId', 'awayTeam.teamTricode': 'awayTeamSlug', \n",
    "                            'homeTeam.teamId': 'homeTeamId', 'homeTeam.teamTricode': 'homeTeamSlug'}, axis=1, inplace=True)\n",
    "\n",
    "    # Set columns to select\n",
    "    nba_schedule_cols = ['gameId', 'gameEt', 'awayTeamId', 'awayTeamSlug', 'awayTeamName',\n",
    "                        'homeTeamId', 'homeTeamSlug', 'homeTeamName']\n",
    "\n",
    "    # Select columns\n",
    "    nba_games_today = nba_games_today[nba_schedule_cols]\n",
    "\n",
    "    ## --- INSERT/UPDATE SQL --- ##\n",
    "    # - Update all other columns where game id = gameId - #\n",
    "    \n",
    "    return nba_games_today "
   ]
  },
  {
   "cell_type": "code",
   "execution_count": 4,
   "metadata": {},
   "outputs": [],
   "source": [
    "# Get today's schedule\n",
    "nba_games_today = get_nba_games_today(nba_header_data)"
   ]
  }
 ],
 "metadata": {
  "kernelspec": {
   "display_name": "Python 3",
   "language": "python",
   "name": "python3"
  },
  "language_info": {
   "codemirror_mode": {
    "name": "ipython",
    "version": 3
   },
   "file_extension": ".py",
   "mimetype": "text/x-python",
   "name": "python",
   "nbconvert_exporter": "python",
   "pygments_lexer": "ipython3",
   "version": "3.9.0"
  },
  "orig_nbformat": 4,
  "vscode": {
   "interpreter": {
    "hash": "aee8b7b246df8f9039afb4144a1f6fd8d2ca17a180786b69acc140d282b71a49"
   }
  }
 },
 "nbformat": 4,
 "nbformat_minor": 2
}
