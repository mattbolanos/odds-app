{
 "cells": [
  {
   "cell_type": "code",
   "execution_count": 2,
   "metadata": {},
   "outputs": [],
   "source": [
    "import psycopg2\n",
    "import pandas as pd\n",
    "\n",
    "con = psycopg2.connect(\n",
    "    database=\"nba_odds\", user='postgres', password='password',\n",
    "    host='127.0.0.1', port='5432'\n",
    ")\n",
    "\n",
    "# Create cursor\n",
    "cursor = con.cursor()\n",
    "\n",
    "# Auto commit\n",
    "con.autocommit = True\n",
    "##\n",
    "\n",
    "nba_header_data = {\n",
    "    'Connection': 'keep-alive',\n",
    "    'Accept': 'application/json, text/plain, */*',\n",
    "    'x-nba-stats-token': 'true',\n",
    "    'User-Agent': 'Mozilla/5.0 (Macintosh; Intel Mac OS X 10_14_6) AppleWebKit/537.36 (KHTML, like Gecko) Chrome/79.0.3945.130 Safari/537.36',\n",
    "    'x-nba-stats-origin': 'stats',\n",
    "    'Sec-Fetch-Site': 'same-origin',\n",
    "    'Sec-Fetch-Mode': 'cors',\n",
    "    'Referer': 'https://stats.nba.com/',\n",
    "    'Accept-Encoding': 'gzip, deflate, br',\n",
    "    'Accept-Language': 'en-US,en;q=0.9',\n",
    "}\n"
   ]
  },
  {
   "cell_type": "code",
   "execution_count": 4,
   "metadata": {},
   "outputs": [
    {
     "name": "stderr",
     "output_type": "stream",
     "text": [
      "/var/folders/rp/d4ny6r_j7vgdznm617lcsh7w0000gn/T/ipykernel_33614/2347816722.py:2: UserWarning: pandas only supports SQLAlchemy connectable (engine/connection) or database string URI or sqlite3 DBAPI2 connection. Other DBAPI2 objects are not tested. Please consider using SQLAlchemy.\n",
      "  odds = pd.read_sql(\"SELECT * FROM dk_nba_team_odds\", con)\n",
      "/var/folders/rp/d4ny6r_j7vgdznm617lcsh7w0000gn/T/ipykernel_33614/2347816722.py:3: UserWarning: pandas only supports SQLAlchemy connectable (engine/connection) or database string URI or sqlite3 DBAPI2 connection. Other DBAPI2 objects are not tested. Please consider using SQLAlchemy.\n",
      "  events = pd.read_sql(\"SELECT * FROM dk_events\", con)\n"
     ]
    }
   ],
   "source": [
    "# get odds and events\n",
    "odds = pd.read_sql(\"SELECT * FROM dk_nba_team_odds\", con)\n",
    "events = pd.read_sql(\"SELECT * FROM dk_events\", con)\n"
   ]
  },
  {
   "cell_type": "code",
   "execution_count": 31,
   "metadata": {},
   "outputs": [
    {
     "name": "stderr",
     "output_type": "stream",
     "text": [
      "/var/folders/rp/d4ny6r_j7vgdznm617lcsh7w0000gn/T/ipykernel_33614/3855934186.py:2: UserWarning: pandas only supports SQLAlchemy connectable (engine/connection) or database string URI or sqlite3 DBAPI2 connection. Other DBAPI2 objects are not tested. Please consider using SQLAlchemy.\n",
      "  nba_team_logs = pd.read_sql(\"SELECT * FROM nba_api_team_game_logs\", con)\n",
      "/var/folders/rp/d4ny6r_j7vgdznm617lcsh7w0000gn/T/ipykernel_33614/3855934186.py:3: UserWarning: pandas only supports SQLAlchemy connectable (engine/connection) or database string URI or sqlite3 DBAPI2 connection. Other DBAPI2 objects are not tested. Please consider using SQLAlchemy.\n",
      "  nba_player_logs = pd.read_sql(\"SELECT * FROM nba_api_player_game_logs\", con)\n",
      "/var/folders/rp/d4ny6r_j7vgdznm617lcsh7w0000gn/T/ipykernel_33614/3855934186.py:4: UserWarning: pandas only supports SQLAlchemy connectable (engine/connection) or database string URI or sqlite3 DBAPI2 connection. Other DBAPI2 objects are not tested. Please consider using SQLAlchemy.\n",
      "  nba_events = pd.read_sql(\"SELECT * FROM nba_api_events\", con)\n"
     ]
    }
   ],
   "source": [
    "# Select nba data\n",
    "nba_team_logs = pd.read_sql(\"SELECT * FROM nba_api_team_game_logs\", con)\n",
    "nba_player_logs = pd.read_sql(\"SELECT * FROM nba_api_player_game_logs\", con)\n",
    "nba_events = pd.read_sql(\"SELECT * FROM nba_api_events\", con)\n"
   ]
  },
  {
   "cell_type": "code",
   "execution_count": 15,
   "metadata": {},
   "outputs": [],
   "source": [
    "query = 'SELECT join_dk_nbaapi_events(%s)'\n",
    "\n",
    "res = cursor.execute(query, ('GSW',))"
   ]
  }
 ],
 "metadata": {
  "kernelspec": {
   "display_name": "Python 3",
   "language": "python",
   "name": "python3"
  },
  "language_info": {
   "codemirror_mode": {
    "name": "ipython",
    "version": 3
   },
   "file_extension": ".py",
   "mimetype": "text/x-python",
   "name": "python",
   "nbconvert_exporter": "python",
   "pygments_lexer": "ipython3",
   "version": "3.9.13"
  },
  "orig_nbformat": 4
 },
 "nbformat": 4,
 "nbformat_minor": 2
}
